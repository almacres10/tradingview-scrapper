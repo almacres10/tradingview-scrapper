{
 "cells": [
  {
   "cell_type": "code",
   "execution_count": 40,
   "metadata": {},
   "outputs": [],
   "source": [
    "from urllib.request import urlopen\n",
    "from bs4 import BeautifulSoup\n",
    "import pandas as pd \n",
    "from datetime import date\n",
    "import os\n",
    "\n",
    "def tradingviewScrapper():\n",
    "\n",
    "    urls = [\n",
    "        'https://www.tradingview.com/markets/stocks-indonesia/market-movers-52wk-high',\n",
    "        'https://www.tradingview.com/markets/stocks-indonesia/market-movers-ath',\n",
    "        'https://www.tradingview.com/markets/stocks-indonesia/market-movers-gainers'\n",
    "    ]\n",
    "\n",
    "    root_path = r'A:\\data\\tradingview'\n",
    "\n",
    "\n",
    "    for url in urls:\n",
    "        try:\n",
    "            # Pengambilan konten\n",
    "            page = urlopen(url)\n",
    "            html = page.read().decode(\"utf-8\")\n",
    "            \n",
    "            # Membuat objek BeautifulSoup\n",
    "            soup = BeautifulSoup(html, \"html.parser\")\n",
    "            rows = soup.find_all('tr')\n",
    "\n",
    "            parts = url.split('market-movers-')\n",
    "            typeurl = parts[1]\n",
    "            today = date.today().strftime('%y-%m-%d')\n",
    "\n",
    "            data = []\n",
    "\n",
    "            # Loop melalui setiap baris dan mendapatkan data dari elemen <td>\n",
    "            for row in rows:\n",
    "                # Mendapatkan semua elemen <td> dalam baris\n",
    "                cells = row.find_all('td')\n",
    "\n",
    "                # Mendapatkan isi teks dari setiap sel dan menambahkannya ke list data\n",
    "                row_data = [cell.text.strip() for cell in cells]\n",
    "                data.append(row_data)\n",
    "\n",
    "            th_elements = rows[0].find_all('th')\n",
    "            headers = [th.text.strip() for th in th_elements]\n",
    "\n",
    "            # Membuat DataFrame dari list data\n",
    "            df = pd.DataFrame(data, columns=headers)\n",
    "            filename = f'Data_{str(typeurl)}_{str(today)}.xlsx'\n",
    "            csv_path = os.path.join(root_path, filename)\n",
    "            df.to_excel(csv_path, index=False)\n",
    "            print(f'Data {url} berhasil discrapping.')\n",
    "            \n",
    "        except HTTPError as e:\n",
    "                print('Error accessing')\n"
   ]
  },
  {
   "cell_type": "code",
   "execution_count": 41,
   "metadata": {},
   "outputs": [
    {
     "name": "stdout",
     "output_type": "stream",
     "text": [
      "Data https://www.tradingview.com/markets/stocks-indonesia/market-movers-52wk-high berhasil discrapping.\n",
      "Data https://www.tradingview.com/markets/stocks-indonesia/market-movers-ath berhasil discrapping.\n",
      "Data https://www.tradingview.com/markets/stocks-indonesia/market-movers-gainers berhasil discrapping.\n"
     ]
    }
   ],
   "source": [
    "tradingviewScrapper()"
   ]
  }
 ],
 "metadata": {
  "kernelspec": {
   "display_name": "Python 3",
   "language": "python",
   "name": "python3"
  },
  "language_info": {
   "codemirror_mode": {
    "name": "ipython",
    "version": 3
   },
   "file_extension": ".py",
   "mimetype": "text/x-python",
   "name": "python",
   "nbconvert_exporter": "python",
   "pygments_lexer": "ipython3",
   "version": "3.11.4"
  }
 },
 "nbformat": 4,
 "nbformat_minor": 2
}
