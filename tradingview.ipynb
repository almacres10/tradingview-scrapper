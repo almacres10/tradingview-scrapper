{
 "cells": [
  {
   "cell_type": "code",
   "execution_count": 2,
   "metadata": {},
   "outputs": [],
   "source": [
    "import pandas as pd\n",
    "from datetime import datetime\n",
    "import os\n",
    "import time\n",
    "\n",
    "from selenium import webdriver\n",
    "from selenium.webdriver.common.by import By\n",
    "from selenium.webdriver.support import expected_conditions as EC\n",
    "from selenium.webdriver.common.keys import Keys\n",
    "from selenium.common.exceptions import TimeoutException, NoSuchElementException, JavascriptException\n",
    "from selenium.webdriver.common.action_chains import ActionChains\n",
    "from selenium.webdriver.chrome.service import Service\n",
    "from selenium.webdriver.support.ui import WebDriverWait, Select\n",
    "\n",
    "# Define executable path\n",
    "executable_path = r\"A:\\proyek\\mpninfo update\\chromedriver.exe\" #Windows\n",
    "service = Service(executable_path)\n",
    "\n",
    "options = webdriver.ChromeOptions()\n",
    "options.add_argument(\"--disable-blink-features=AutomationControlled\")\n",
    "# options.add_argument(\"--headless=new\")\n",
    "options.add_experimental_option(\"excludeSwitches\", [\"enable-automation\"])\n",
    "options.add_experimental_option(\"useAutomationExtension\", False) \n",
    "options.add_argument('--ignore-certificate-errors')\n",
    "\n",
    "# options.add_experimental_option(\"prefs\",{\"download.default_directory\":path}) \n",
    "\n",
    "driver = webdriver.Chrome(service=service, options=options)\n",
    "\n",
    "# options.add_argument(\"--headless=new\")"
   ]
  },
  {
   "cell_type": "code",
   "execution_count": 3,
   "metadata": {},
   "outputs": [],
   "source": [
    "def start_tradingview():\n",
    "    driver.get(\"http://tradingview.com\")"
   ]
  },
  {
   "cell_type": "code",
   "execution_count": 4,
   "metadata": {},
   "outputs": [],
   "source": [
    "start_tradingview()"
   ]
  },
  {
   "cell_type": "code",
   "execution_count": 5,
   "metadata": {},
   "outputs": [],
   "source": [
    "menu = driver.find_element(By. CSS_SELECTOR, 'body > div.tv-main > div.tv-header.tv-header__top.js-site-header-container.tv-header--sticky.tv-header--promo.tv-header--animated > div.tv-header__inner > div.tv-header__area.tv-header__area--logo-menu > button')\n",
    "menu.click()"
   ]
  },
  {
   "cell_type": "code",
   "execution_count": 6,
   "metadata": {},
   "outputs": [],
   "source": [
    "market = driver.find_element(By. CSS_SELECTOR, '#overlap-manager-root > div:nth-child(2) > span > div.menu-krYvcygz.menuWrap-Kq3ruQo8 > div > div > div > div > button:nth-child(3) > span.toolbox-jFqVJoPk > span > svg')\n",
    "market.click()"
   ]
  },
  {
   "cell_type": "code",
   "execution_count": 7,
   "metadata": {},
   "outputs": [],
   "source": [
    "stocks = driver.find_element(By. CSS_SELECTOR, '#overlap-manager-root > div:nth-child(2) > span > div.menu-krYvcygz.headerVisible-krYvcygz.menuWrap-Kq3ruQo8 > div > div > div.content-krYvcygz > div > button:nth-child(6) > span.toolbox-jFqVJoPk > span > svg')\n",
    "stocks.click()"
   ]
  },
  {
   "cell_type": "code",
   "execution_count": 8,
   "metadata": {},
   "outputs": [],
   "source": [
    "gainers = driver.find_element(By. CSS_SELECTOR, '#overlap-manager-root > div:nth-child(2) > span > div.menu-krYvcygz.headerVisible-krYvcygz.menuWrap-Kq3ruQo8 > div > div > div.content-krYvcygz > div > a:nth-child(4) > span > span > span > span > span.label-mDJVFqQ3.js-main-menu-dropdown-link-title')\n",
    "gainers.click()"
   ]
  },
  {
   "cell_type": "code",
   "execution_count": 11,
   "metadata": {},
   "outputs": [
    {
     "ename": "NoSuchElementException",
     "evalue": "Message: no such element: Unable to locate element: {\"method\":\"css selector\",\"selector\":\".tickerNameBox-GrtoTeat\"}\n  (Session info: chrome=119.0.6045.200)\nStacktrace:\n\tGetHandleVerifier [0x00007FF70B2B82B2+55298]\n\t(No symbol) [0x00007FF70B225E02]\n\t(No symbol) [0x00007FF70B0E05AB]\n\t(No symbol) [0x00007FF70B12175C]\n\t(No symbol) [0x00007FF70B1218DC]\n\t(No symbol) [0x00007FF70B11819C]\n\t(No symbol) [0x00007FF70B1420EF]\n\t(No symbol) [0x00007FF70B1180CF]\n\t(No symbol) [0x00007FF70B1422C0]\n\t(No symbol) [0x00007FF70B15AAA4]\n\t(No symbol) [0x00007FF70B141E83]\n\t(No symbol) [0x00007FF70B11670A]\n\t(No symbol) [0x00007FF70B117964]\n\tGetHandleVerifier [0x00007FF70B630AAB+3694587]\n\tGetHandleVerifier [0x00007FF70B68728E+4048862]\n\tGetHandleVerifier [0x00007FF70B67F173+4015811]\n\tGetHandleVerifier [0x00007FF70B3547D6+695590]\n\t(No symbol) [0x00007FF70B230CE8]\n\t(No symbol) [0x00007FF70B22CF34]\n\t(No symbol) [0x00007FF70B22D062]\n\t(No symbol) [0x00007FF70B21D3A3]\n\tBaseThreadInitThunk [0x00007FF8825F7344+20]\n\tRtlUserThreadStart [0x00007FF8831C26B1+33]\n",
     "output_type": "error",
     "traceback": [
      "\u001b[1;31m---------------------------------------------------------------------------\u001b[0m",
      "\u001b[1;31mNoSuchElementException\u001b[0m                    Traceback (most recent call last)",
      "\u001b[1;32ma:\\proyek\\tradingview\\tradingview.ipynb Cell 8\u001b[0m line \u001b[0;36m5\n\u001b[0;32m      <a href='vscode-notebook-cell:/a%3A/proyek/tradingview/tradingview.ipynb#X10sZmlsZQ%3D%3D?line=1'>2</a>\u001b[0m tr_element \u001b[39m=\u001b[39m driver\u001b[39m.\u001b[39mfind_element(By\u001b[39m.\u001b[39m CSS_SELECTOR, \u001b[39m\"\u001b[39m\u001b[39mtr.row-RdUXZpkv\u001b[39m\u001b[39m\"\u001b[39m)\n\u001b[0;32m      <a href='vscode-notebook-cell:/a%3A/proyek/tradingview/tradingview.ipynb#X10sZmlsZQ%3D%3D?line=3'>4</a>\u001b[0m \u001b[39m# Dapatkan data dari elemen-elemen anak di dalam <tr>\u001b[39;00m\n\u001b[1;32m----> <a href='vscode-notebook-cell:/a%3A/proyek/tradingview/tradingview.ipynb#X10sZmlsZQ%3D%3D?line=4'>5</a>\u001b[0m ticker \u001b[39m=\u001b[39m tr_element\u001b[39m.\u001b[39;49mfind_element(By\u001b[39m.\u001b[39;49m CSS_SELECTOR, \u001b[39m\"\u001b[39;49m\u001b[39m.tickerNameBox-GrtoTeat\u001b[39;49m\u001b[39m\"\u001b[39;49m)\u001b[39m.\u001b[39mtext\n\u001b[0;32m      <a href='vscode-notebook-cell:/a%3A/proyek/tradingview/tradingview.ipynb#X10sZmlsZQ%3D%3D?line=5'>6</a>\u001b[0m percentage_change \u001b[39m=\u001b[39m tr_element\u001b[39m.\u001b[39mfind_element(By\u001b[39m.\u001b[39m CSS_SELECTOR, \u001b[39m\"\u001b[39m\u001b[39m.positive-p_QIAEOQ\u001b[39m\u001b[39m\"\u001b[39m)\u001b[39m.\u001b[39mtext\n\u001b[0;32m      <a href='vscode-notebook-cell:/a%3A/proyek/tradingview/tradingview.ipynb#X10sZmlsZQ%3D%3D?line=6'>7</a>\u001b[0m price \u001b[39m=\u001b[39m tr_element\u001b[39m.\u001b[39mfind_element(By\u001b[39m.\u001b[39m CSS_SELECTOR, \u001b[39m\"\u001b[39m\u001b[39mtd:nth-child(3)\u001b[39m\u001b[39m\"\u001b[39m)\u001b[39m.\u001b[39mtext\n",
      "File \u001b[1;32mc:\\Users\\817932702\\AppData\\Local\\Programs\\Python\\Python311\\Lib\\site-packages\\selenium\\webdriver\\remote\\webelement.py:433\u001b[0m, in \u001b[0;36mWebElement.find_element\u001b[1;34m(self, by, value)\u001b[0m\n\u001b[0;32m    430\u001b[0m     by \u001b[39m=\u001b[39m By\u001b[39m.\u001b[39mCSS_SELECTOR\n\u001b[0;32m    431\u001b[0m     value \u001b[39m=\u001b[39m \u001b[39m'\u001b[39m\u001b[39m[name=\u001b[39m\u001b[39m\"\u001b[39m\u001b[39m%s\u001b[39;00m\u001b[39m\"\u001b[39m\u001b[39m]\u001b[39m\u001b[39m'\u001b[39m \u001b[39m%\u001b[39m value\n\u001b[1;32m--> 433\u001b[0m \u001b[39mreturn\u001b[39;00m \u001b[39mself\u001b[39;49m\u001b[39m.\u001b[39;49m_execute(Command\u001b[39m.\u001b[39;49mFIND_CHILD_ELEMENT, {\u001b[39m\"\u001b[39;49m\u001b[39musing\u001b[39;49m\u001b[39m\"\u001b[39;49m: by, \u001b[39m\"\u001b[39;49m\u001b[39mvalue\u001b[39;49m\u001b[39m\"\u001b[39;49m: value})[\u001b[39m\"\u001b[39m\u001b[39mvalue\u001b[39m\u001b[39m\"\u001b[39m]\n",
      "File \u001b[1;32mc:\\Users\\817932702\\AppData\\Local\\Programs\\Python\\Python311\\Lib\\site-packages\\selenium\\webdriver\\remote\\webelement.py:410\u001b[0m, in \u001b[0;36mWebElement._execute\u001b[1;34m(self, command, params)\u001b[0m\n\u001b[0;32m    408\u001b[0m     params \u001b[39m=\u001b[39m {}\n\u001b[0;32m    409\u001b[0m params[\u001b[39m\"\u001b[39m\u001b[39mid\u001b[39m\u001b[39m\"\u001b[39m] \u001b[39m=\u001b[39m \u001b[39mself\u001b[39m\u001b[39m.\u001b[39m_id\n\u001b[1;32m--> 410\u001b[0m \u001b[39mreturn\u001b[39;00m \u001b[39mself\u001b[39;49m\u001b[39m.\u001b[39;49m_parent\u001b[39m.\u001b[39;49mexecute(command, params)\n",
      "File \u001b[1;32mc:\\Users\\817932702\\AppData\\Local\\Programs\\Python\\Python311\\Lib\\site-packages\\selenium\\webdriver\\remote\\webdriver.py:444\u001b[0m, in \u001b[0;36mWebDriver.execute\u001b[1;34m(self, driver_command, params)\u001b[0m\n\u001b[0;32m    442\u001b[0m response \u001b[39m=\u001b[39m \u001b[39mself\u001b[39m\u001b[39m.\u001b[39mcommand_executor\u001b[39m.\u001b[39mexecute(driver_command, params)\n\u001b[0;32m    443\u001b[0m \u001b[39mif\u001b[39;00m response:\n\u001b[1;32m--> 444\u001b[0m     \u001b[39mself\u001b[39;49m\u001b[39m.\u001b[39;49merror_handler\u001b[39m.\u001b[39;49mcheck_response(response)\n\u001b[0;32m    445\u001b[0m     response[\u001b[39m\"\u001b[39m\u001b[39mvalue\u001b[39m\u001b[39m\"\u001b[39m] \u001b[39m=\u001b[39m \u001b[39mself\u001b[39m\u001b[39m.\u001b[39m_unwrap_value(response\u001b[39m.\u001b[39mget(\u001b[39m\"\u001b[39m\u001b[39mvalue\u001b[39m\u001b[39m\"\u001b[39m, \u001b[39mNone\u001b[39;00m))\n\u001b[0;32m    446\u001b[0m     \u001b[39mreturn\u001b[39;00m response\n",
      "File \u001b[1;32mc:\\Users\\817932702\\AppData\\Local\\Programs\\Python\\Python311\\Lib\\site-packages\\selenium\\webdriver\\remote\\errorhandler.py:249\u001b[0m, in \u001b[0;36mErrorHandler.check_response\u001b[1;34m(self, response)\u001b[0m\n\u001b[0;32m    247\u001b[0m         alert_text \u001b[39m=\u001b[39m value[\u001b[39m\"\u001b[39m\u001b[39malert\u001b[39m\u001b[39m\"\u001b[39m]\u001b[39m.\u001b[39mget(\u001b[39m\"\u001b[39m\u001b[39mtext\u001b[39m\u001b[39m\"\u001b[39m)\n\u001b[0;32m    248\u001b[0m     \u001b[39mraise\u001b[39;00m exception_class(message, screen, stacktrace, alert_text)  \u001b[39m# type: ignore[call-arg]  # mypy is not smart enough here\u001b[39;00m\n\u001b[1;32m--> 249\u001b[0m \u001b[39mraise\u001b[39;00m exception_class(message, screen, stacktrace)\n",
      "\u001b[1;31mNoSuchElementException\u001b[0m: Message: no such element: Unable to locate element: {\"method\":\"css selector\",\"selector\":\".tickerNameBox-GrtoTeat\"}\n  (Session info: chrome=119.0.6045.200)\nStacktrace:\n\tGetHandleVerifier [0x00007FF70B2B82B2+55298]\n\t(No symbol) [0x00007FF70B225E02]\n\t(No symbol) [0x00007FF70B0E05AB]\n\t(No symbol) [0x00007FF70B12175C]\n\t(No symbol) [0x00007FF70B1218DC]\n\t(No symbol) [0x00007FF70B11819C]\n\t(No symbol) [0x00007FF70B1420EF]\n\t(No symbol) [0x00007FF70B1180CF]\n\t(No symbol) [0x00007FF70B1422C0]\n\t(No symbol) [0x00007FF70B15AAA4]\n\t(No symbol) [0x00007FF70B141E83]\n\t(No symbol) [0x00007FF70B11670A]\n\t(No symbol) [0x00007FF70B117964]\n\tGetHandleVerifier [0x00007FF70B630AAB+3694587]\n\tGetHandleVerifier [0x00007FF70B68728E+4048862]\n\tGetHandleVerifier [0x00007FF70B67F173+4015811]\n\tGetHandleVerifier [0x00007FF70B3547D6+695590]\n\t(No symbol) [0x00007FF70B230CE8]\n\t(No symbol) [0x00007FF70B22CF34]\n\t(No symbol) [0x00007FF70B22D062]\n\t(No symbol) [0x00007FF70B21D3A3]\n\tBaseThreadInitThunk [0x00007FF8825F7344+20]\n\tRtlUserThreadStart [0x00007FF8831C26B1+33]\n"
     ]
    }
   ],
   "source": [
    "# Temukan elemen <tr> dengan class \"row-RdUXZpkv\"\n",
    "tr_element = driver.find_element(By. CSS_SELECTOR, \"tr.row-RdUXZpkv\")\n",
    "\n",
    "# Dapatkan data dari elemen-elemen anak di dalam <tr>\n",
    "ticker = tr_element.find_element(By. CSS_SELECTOR, \".tickerNameBox-GrtoTeat\").text\n",
    "percentage_change = tr_element.find_element(By. CSS_SELECTOR, \".positive-p_QIAEOQ\").text\n",
    "price = tr_element.find_element(By. CSS_SELECTOR, \"td:nth-child(3)\").text\n",
    "market_cap = tr_element.find_element(By. CSS_SELECTOR, \"td:nth-child(4)\").text\n",
    "\n",
    "# Cetak atau olah data yang telah Anda dapatkan\n",
    "print(\"Ticker:\", ticker)\n",
    "print(\"Percentage Change:\", percentage_change)\n",
    "print(\"Price:\", price)\n",
    "print(\"Market Cap:\", market_cap)"
   ]
  }
 ],
 "metadata": {
  "kernelspec": {
   "display_name": "Python 3",
   "language": "python",
   "name": "python3"
  },
  "language_info": {
   "codemirror_mode": {
    "name": "ipython",
    "version": 3
   },
   "file_extension": ".py",
   "mimetype": "text/x-python",
   "name": "python",
   "nbconvert_exporter": "python",
   "pygments_lexer": "ipython3",
   "version": "3.11.4"
  }
 },
 "nbformat": 4,
 "nbformat_minor": 2
}
